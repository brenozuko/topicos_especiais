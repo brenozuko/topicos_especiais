{
 "cells": [
  {
   "cell_type": "code",
   "execution_count": 7,
   "metadata": {},
   "outputs": [],
   "source": [
    "import json\n",
    "\n",
    "data = {}\n",
    "\n",
    "data[\"sp\"] = \"São Paulo\"\n",
    "\n",
    "data[\"rj\"] = \"Rio de Janeiro\"\n",
    "\n",
    "data[\"mg\"] = \"Minas Gerais\"\n",
    "\n",
    "\n",
    "# escrever formato JSON\n",
    "f = open(\"output.json\", \"w\", encoding=\"utf8\")\n",
    "\n",
    "json.dump(data, f, sort_keys=True, indent=4, ensure_ascii=False)\n",
    "\n",
    "\n",
    "f.close()\n",
    "\n",
    "# ler formato JSON\n",
    "\n",
    "f = open(\"\")"
   ]
  },
  {
   "cell_type": "code",
   "execution_count": null,
   "metadata": {},
   "outputs": [],
   "source": []
  }
 ],
 "metadata": {
  "kernelspec": {
   "display_name": "Python 3.10.6 64-bit",
   "language": "python",
   "name": "python3"
  },
  "language_info": {
   "codemirror_mode": {
    "name": "ipython",
    "version": 3
   },
   "file_extension": ".py",
   "mimetype": "text/x-python",
   "name": "python",
   "nbconvert_exporter": "python",
   "pygments_lexer": "ipython3",
   "version": "3.10.6"
  },
  "orig_nbformat": 4,
  "vscode": {
   "interpreter": {
    "hash": "916dbcbb3f70747c44a77c7bcd40155683ae19c65e1c03b4aa3499c5328201f1"
   }
  }
 },
 "nbformat": 4,
 "nbformat_minor": 2
}
