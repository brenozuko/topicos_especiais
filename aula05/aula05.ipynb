{
 "cells": [
  {
   "cell_type": "code",
   "execution_count": 7,
   "metadata": {},
   "outputs": [],
   "source": [
    "import json\n",
    "\n",
    "data = {}\n",
    "\n",
    "data[\"sp\"] = \"São Paulo\"\n",
    "\n",
    "data[\"rj\"] = \"Rio de Janeiro\"\n",
    "\n",
    "data[\"mg\"] = \"Minas Gerais\"\n",
    "\n",
    "\n",
    "# escrever formato JSON\n",
    "f = open(\"output.json\", \"w\", encoding=\"utf8\")\n",
    "\n",
    "json.dump(data, f, sort_keys=True, indent=4, ensure_ascii=False)\n",
    "\n",
    "\n",
    "f.close()\n",
    "\n",
    "# ler formato JSON\n",
    "\n",
    "f = open(\"\")"
   ]
  },
  {
   "cell_type": "code",
   "execution_count": 3,
   "metadata": {},
   "outputs": [],
   "source": [
    "import json\n",
    "\n",
    "data = {}\n",
    "\n",
    "data[\"vermelho\"] = {\"nome\": \"Vermelho\", \"rgb\": \"255, 0, 0\", \"hex\": \"#FFFF00\"}\n",
    "data[\"verde\"] = {\"nome\": \"Verde\", \"rgb\": \"0, 255, 0\", \"hex\": \"#00FF00\"}\n",
    "data[\"azul\"] = {\"nome\": \"Azul\", \"rgb\": \"0, 0, 255\", \"hex\": \"#0000FF\"}\n",
    "\n",
    "# escrever formato JSON\n",
    "f = open(\"output.json\", \"w\", encoding=\"utf8\")\n",
    "json.dump(data, f, sort_keys=True, indent=4, ensure_ascii=False)\n",
    "f.close()\n",
    "\n",
    "# ler formato JSON\n",
    "f = open(\"output.json\", \"r\", encoding=\"utf8\")\n",
    "data = json.load(f)\n",
    "f.close()\n"
   ]
  },
  {
   "cell_type": "code",
   "execution_count": null,
   "metadata": {},
   "outputs": [],
   "source": [
    "import json\n",
    "import requests\n",
    "\n",
    "navegador = {\n",
    "    \"User-Agent\": \"Chrome\"\n",
    "}\n",
    "urll = \"https://parallelum.com.br/fipe/api/v1/carros/marcas\"\n",
    "\n",
    "data = requests.get(url=urll, headers=navegador)\n",
    "print(data.json())\n",
    "\n",
    "# for marca in data:\n",
    "#     print(marca)\n"
   ]
  }
 ],
 "metadata": {
  "kernelspec": {
   "display_name": "Python 3.10.6 64-bit",
   "language": "python",
   "name": "python3"
  },
  "language_info": {
   "codemirror_mode": {
    "name": "ipython",
    "version": 3
   },
   "file_extension": ".py",
   "mimetype": "text/x-python",
   "name": "python",
   "nbconvert_exporter": "python",
   "pygments_lexer": "ipython3",
   "version": "3.10.6"
  },
  "orig_nbformat": 4,
  "vscode": {
   "interpreter": {
    "hash": "916dbcbb3f70747c44a77c7bcd40155683ae19c65e1c03b4aa3499c5328201f1"
   }
  }
 },
 "nbformat": 4,
 "nbformat_minor": 2
}
