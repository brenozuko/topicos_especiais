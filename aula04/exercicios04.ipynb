{
 "cells": [
  {
   "cell_type": "code",
   "execution_count": 6,
   "metadata": {},
   "outputs": [
    {
     "name": "stdout",
     "output_type": "stream",
     "text": [
      "['teste\\n', '01\\n', 'adasdasdsa\\n', 'adasdasdsa\\n', 'aaaaaaaa\\n']\n"
     ]
    }
   ],
   "source": [
    "# EXERCÍCIO 1\n",
    "\n",
    "n = int(input(\"Insira o número de linhas a serem lidas: \"))\n",
    "\n",
    "f = open('exemplo.txt', 'r')  \n",
    "\n",
    "readn = f.readlines()[:n]\n",
    "\n",
    "print(readn)\n",
    "\n",
    "f.close()"
   ]
  },
  {
   "cell_type": "code",
   "execution_count": 12,
   "metadata": {},
   "outputs": [
    {
     "name": "stdout",
     "output_type": "stream",
     "text": [
      "['teste', '01', 'adasdasdsa', 'adasdasdsa', 'aaaaaaaa', 'ffffffffffff', 'wqeqweqwewqe', 'aaaaaaasdff', 'mydickinabox']\n"
     ]
    },
    {
     "data": {
      "text/plain": [
       "list"
      ]
     },
     "execution_count": 12,
     "metadata": {},
     "output_type": "execute_result"
    }
   ],
   "source": [
    "# EXERCÍCIO 2\n",
    "\n",
    "f = open('exemplo.txt', 'r')\n",
    "\n",
    "with open('exemplo.txt', 'r') as f:\n",
    "    mylist = f.read().splitlines() \n",
    "\n",
    "print(mylist)\n",
    "type(mylist)"
   ]
  },
  {
   "cell_type": "code",
   "execution_count": 16,
   "metadata": {},
   "outputs": [
    {
     "name": "stdout",
     "output_type": "stream",
     "text": [
      "Breno aparece 2 vezes\n",
      "Bruno aparece 2 vezes\n",
      "Teste aparece 3 vezes\n"
     ]
    }
   ],
   "source": [
    "# EXERCÍCIO 3\n",
    "from collections import Counter\n",
    "\n",
    "f = open('exemplo.txt', 'r')\n",
    "\n",
    "with open('exemplo.txt', 'r') as f:\n",
    "    mylist = f.read().splitlines() \n",
    "\n",
    "frequencias = Counter(mylist)\n",
    "\n",
    "for i in frequencias:\n",
    "    print(f'{i} aparece {frequencias[i]} vezes')\n"
   ]
  },
  {
   "cell_type": "code",
   "execution_count": 17,
   "metadata": {},
   "outputs": [],
   "source": [
    "# EXERCÍCIO 4\n",
    "\n",
    "with open('exemplo.txt', 'r') as primeiro, open('copiaexemplo.txt', 'w') as segundo:\n",
    "    for line in primeiro:\n",
    "        segundo.write(line)\n",
    "\n",
    "\n"
   ]
  }
 ],
 "metadata": {
  "language_info": {
   "name": "python"
  },
  "orig_nbformat": 4
 },
 "nbformat": 4,
 "nbformat_minor": 2
}
