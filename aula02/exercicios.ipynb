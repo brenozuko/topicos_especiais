{
 "cells": [
  {
   "cell_type": "markdown",
   "metadata": {},
   "source": [
    "# Exercícios entrada e condicionais:\n"
   ]
  },
  {
   "cell_type": "code",
   "execution_count": 2,
   "metadata": {},
   "outputs": [
    {
     "name": "stdout",
     "output_type": "stream",
     "text": [
      "Valor inválido\n"
     ]
    }
   ],
   "source": [
    "# Exercício 1\n",
    "\n",
    "def atualiza_valor(nome, valor):\n",
    "    if valor < 0:\n",
    "        print(\"Valor inválido\")\n",
    "        return\n",
    "\n",
    "    if(50 <= valor < 200):\n",
    "        print(\"Nome: \", nome, \"\\nValor atualizado: \", valor - (valor * 0.05))\n",
    "    elif(200 <= valor < 500):\n",
    "        print(\"Nome: \", nome, \"\\nValor atualizado: \", valor - (valor * 0.6))\n",
    "    elif(500 <= valor < 1000):\n",
    "        print(\"Nome: \", nome, \"\\nValor atualizado: \", valor - (valor * 0.7))\n",
    "    elif(valor >= 1000):\n",
    "        print(\"Nome: \", nome, \"\\nValor atualizado: \", valor - (valor * 0.8))\n",
    "    else:\n",
    "        print(\"Nome: \", nome, \"\\nValor: \", valor)\n",
    "\n",
    "\n",
    "nome = input(\"Digite o nome do produto: \")\n",
    "valor = float(input(\"Digite o valor do produto: \"))\n",
    "\n",
    "atualiza_valor(nome, valor)"
   ]
  },
  {
   "cell_type": "code",
   "execution_count": 4,
   "metadata": {},
   "outputs": [
    {
     "name": "stdout",
     "output_type": "stream",
     "text": [
      "Resistências fornecidas:  (10, 20, 30, 40)\n",
      "Resistência equivalente:  100\n",
      "Menor resistência:  10\n",
      "Maior resistência:  40\n"
     ]
    }
   ],
   "source": [
    "# Exercício 2\n",
    "\n",
    "def resistencia_serie(*resistencias):\n",
    "    resistencia_equivalente = 0\n",
    "    menor = 99999\n",
    "    maior = -99999\n",
    "\n",
    "    for r in resistencias:\n",
    "        resistencia_equivalente += r\n",
    "\n",
    "        if r < menor:\n",
    "            menor = r\n",
    "\n",
    "        if r > maior:\n",
    "            maior = r\n",
    "\n",
    "    print(\"Resistências fornecidas: \", resistencias)\n",
    "    print(\"Resistência equivalente: \", resistencia_equivalente)\n",
    "    print(\"Menor resistência: \", menor)\n",
    "    print(\"Maior resistência: \", maior)\n",
    "\n",
    "\n",
    "resistencia_serie(10, 20, 30, 40)\n"
   ]
  },
  {
   "cell_type": "code",
   "execution_count": 5,
   "metadata": {},
   "outputs": [
    {
     "name": "stdout",
     "output_type": "stream",
     "text": [
      "9 x 1 = 9\n",
      "9 x 2 = 18\n",
      "9 x 3 = 27\n",
      "9 x 4 = 36\n",
      "9 x 5 = 45\n",
      "9 x 6 = 54\n",
      "9 x 7 = 63\n",
      "9 x 8 = 72\n",
      "9 x 9 = 81\n",
      "9 x 10 = 90\n"
     ]
    }
   ],
   "source": [
    "# Exercício 3\n",
    "\n",
    "def tabuada(numero):\n",
    "    for i in range(1, 11):\n",
    "        print(numero, \"x\", i, \"=\", numero * i)\n",
    "\n",
    "tabuada(9)"
   ]
  },
  {
   "cell_type": "code",
   "execution_count": 9,
   "metadata": {},
   "outputs": [
    {
     "name": "stdout",
     "output_type": "stream",
     "text": [
      "O ano 1700 pertence ao século 17\n"
     ]
    }
   ],
   "source": [
    "# Exercício 4\n",
    "year = int(input(\"Digite o ano: \"))\n",
    "century = year // 100 if year % 100 == 0 else year // 100 + 1\n",
    "print(\"O ano\", year, \"pertence ao século\", century)\n"
   ]
  },
  {
   "cell_type": "markdown",
   "metadata": {},
   "source": [
    "# Exercícios de tratamento de exceções:\n"
   ]
  },
  {
   "cell_type": "code",
   "execution_count": 15,
   "metadata": {},
   "outputs": [
    {
     "name": "stdout",
     "output_type": "stream",
     "text": [
      "IMC 1: 24.22\n",
      "IMC 2: 24.69\n",
      "Valor(es) inválido(s)\n"
     ]
    }
   ],
   "source": [
    "def calcula_imc(*pessoas):\n",
    "    for idx, pessoa in enumerate(pessoas):\n",
    "        try: \n",
    "            peso = float(pessoa[0])\n",
    "            altura = float(pessoa[1])\n",
    "            imc = peso / (altura ** 2)\n",
    "            print(f'IMC {idx + 1}: {imc:.2f}')\n",
    "        except ValueError:\n",
    "            print(\"Valor(es) inválido(s)\")\n",
    "\n",
    "\n",
    "calcula_imc([70, 1.70], [80, 1.80], ['aaaaa', 1.90])"
   ]
  },
  {
   "cell_type": "markdown",
   "metadata": {},
   "source": [
    "# Exercícios de funções:\n"
   ]
  },
  {
   "cell_type": "code",
   "execution_count": 20,
   "metadata": {},
   "outputs": [
    {
     "name": "stdout",
     "output_type": "stream",
     "text": [
      "[12, 14, 16, 18, 20, 22, 24, 26, 28, 30, 32, 34, 36]\n",
      "Quantidade de números pares:  13\n",
      "Quantidade de números ímpares:  0\n",
      "Maior número:  36\n",
      "Menor número:  12\n",
      "Média:  24.0\n"
     ]
    }
   ],
   "source": [
    "# Exercício 1\n",
    "numeros = []\n",
    "def qtd_pares(numeros):\n",
    "    qtd = 0\n",
    "    for n in numeros:\n",
    "        if n % 2 == 0:\n",
    "            qtd += 1\n",
    "\n",
    "    return qtd\n",
    "\n",
    "def qtd_impares(numeros):\n",
    "    qtd = 0\n",
    "    for n in numeros:\n",
    "        if n % 2 != 0:\n",
    "            qtd += 1\n",
    "\n",
    "    return qtd\n",
    "\n",
    "def maior_numero(numeros):\n",
    "    maior = -99999\n",
    "    for n in numeros:\n",
    "        if n > maior:\n",
    "            maior = n\n",
    "\n",
    "    return maior\n",
    "\n",
    "def menor_numero(numeros):\n",
    "    menor = 99999\n",
    "    for n in numeros:\n",
    "        if n < menor:\n",
    "            menor = n\n",
    "\n",
    "    return menor\n",
    "\n",
    "def media(numeros):\n",
    "    soma = 0\n",
    "    for n in numeros:\n",
    "        soma += n\n",
    "\n",
    "    return soma / len(numeros)\n",
    "\n",
    "\n",
    "while(True):\n",
    "    try:\n",
    "        numero = int(input(\"Digite um número qualquer ou 0 para parar: \"))\n",
    "        if numero == 0:\n",
    "            break\n",
    "        numeros.append(numero)\n",
    "    except ValueError:\n",
    "        print(\"Valor inválido\")\n",
    "        continue\n",
    "\n",
    "\n",
    "print(numeros)\n",
    "print(\"Quantidade de números pares: \", qtd_pares(numeros))\n",
    "print(\"Quantidade de números ímpares: \", qtd_impares(numeros))\n",
    "print(\"Maior número: \", maior_numero(numeros))\n",
    "print(\"Menor número: \", menor_numero(numeros))\n",
    "print(\"Média: \", media(numeros))"
   ]
  },
  {
   "cell_type": "code",
   "execution_count": 29,
   "metadata": {},
   "outputs": [
    {
     "name": "stdout",
     "output_type": "stream",
     "text": [
      "Gere seu currículo em HTML\n",
      "\n",
      "    <html>\n",
      "        <head>\n",
      "            <title>Curriculo</title>\n",
      "        </head>\n",
      "        <body>\n",
      "            <h1>Curriculo</h1>\n",
      "            <p>Nome: teste</p>\n",
      "            <p>Endereço: teste</p>\n",
      "            <p>Telefone: teste</p>\n",
      "            <p>E-mail: teste</p>\n",
      "            <p>Escolaridade: teste</p>\n",
      "            <p>Experiência Profissional: teste</p>\n",
      "        </body>\n",
      "    </html>\n",
      "    \n"
     ]
    }
   ],
   "source": [
    "def generate_resume_html(nome, end, tel, email, esc, exp):\n",
    "    html = f\"\"\"\n",
    "    <html>\n",
    "        <head>\n",
    "            <title>Curriculo</title>\n",
    "        </head>\n",
    "        <body>\n",
    "            <h1>Curriculo</h1>\n",
    "            <p>Nome: {nome}</p>\n",
    "            <p>Endereço: {end}</p>\n",
    "            <p>Telefone: {tel}</p>\n",
    "            <p>E-mail: {email}</p>\n",
    "            <p>Escolaridade: {esc}</p>\n",
    "            <p>Experiência Profissional: {exp}</p>\n",
    "        </body>\n",
    "    </html>\n",
    "    \"\"\"\n",
    "    print(html)\n",
    "    file = open(\"curriculo.html\", \"w\", encoding=\"utf-8\")\n",
    "    file.write(html)\n",
    "    file.close()\n",
    "\n",
    "print(\"Gere seu currículo em HTML\")\n",
    "nome = input(\"Digite seu nome: \")\n",
    "end = input(\"Digite seu endereço: \")\n",
    "tel = input(\"Digite seu telefone: \")\n",
    "email = input(\"Digite seu email: \")\n",
    "esc = input(\"Digite sua escolaridade: \")\n",
    "exp = input(\"Digite sua experiência profissional: \")\n",
    "\n",
    "\n",
    "generate_resume_html(nome, end, tel, email, esc, exp)\n"
   ]
  },
  {
   "cell_type": "code",
   "execution_count": null,
   "metadata": {},
   "outputs": [],
   "source": []
  }
 ],
 "metadata": {
  "kernelspec": {
   "display_name": "Python 3.10.6 64-bit",
   "language": "python",
   "name": "python3"
  },
  "language_info": {
   "codemirror_mode": {
    "name": "ipython",
    "version": 3
   },
   "file_extension": ".py",
   "mimetype": "text/x-python",
   "name": "python",
   "nbconvert_exporter": "python",
   "pygments_lexer": "ipython3",
   "version": "3.10.6"
  },
  "orig_nbformat": 4,
  "vscode": {
   "interpreter": {
    "hash": "24f94512675ec9df344132d21213f10995dc47aff71c39568dc39323421631ce"
   }
  }
 },
 "nbformat": 4,
 "nbformat_minor": 2
}
