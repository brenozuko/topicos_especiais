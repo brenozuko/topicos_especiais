{
 "cells": [
  {
   "cell_type": "code",
   "execution_count": 9,
   "metadata": {},
   "outputs": [
    {
     "name": "stdout",
     "output_type": "stream",
     "text": [
      "{'username': 'jdoe', 'password': '+w3wCcg*aP/#c`'}\n"
     ]
    }
   ],
   "source": [
    "import random\n",
    "\n",
    "def generateUsername(fullName):\n",
    "    username = fullName.lower()[0]\n",
    "\n",
    "    username += fullName.split(' ')[1].lower()\n",
    "\n",
    "    return username\n",
    "\n",
    "def generatePassword():\n",
    "    password = ''\n",
    "\n",
    "    for i in range(14):\n",
    "        password += chr(random.randint(34, 122))\n",
    "\n",
    "    return password\n",
    "\n",
    "def generateUser():\n",
    "    user = {\n",
    "    'username': '',\n",
    "    'password': ''\n",
    "   }\n",
    "\n",
    "    fullName = input('Digite seu nome completo: ')\n",
    "\n",
    "    user['username'] = generateUsername(fullName)\n",
    "    user['password'] = generatePassword()\n",
    "\n",
    "    return user\n",
    "\n",
    "\n",
    "user = generateUser()\n",
    "\n",
    "print(user)\n",
    "\n",
    "\n"
   ]
  },
  {
   "cell_type": "code",
   "execution_count": null,
   "metadata": {},
   "outputs": [],
   "source": []
  }
 ],
 "metadata": {
  "kernelspec": {
   "display_name": "Python 3.10.6 64-bit",
   "language": "python",
   "name": "python3"
  },
  "language_info": {
   "codemirror_mode": {
    "name": "ipython",
    "version": 3
   },
   "file_extension": ".py",
   "mimetype": "text/x-python",
   "name": "python",
   "nbconvert_exporter": "python",
   "pygments_lexer": "ipython3",
   "version": "3.10.6"
  },
  "orig_nbformat": 4,
  "vscode": {
   "interpreter": {
    "hash": "24f94512675ec9df344132d21213f10995dc47aff71c39568dc39323421631ce"
   }
  }
 },
 "nbformat": 4,
 "nbformat_minor": 2
}
