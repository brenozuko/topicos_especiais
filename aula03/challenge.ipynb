{
 "cells": [
  {
   "cell_type": "code",
   "execution_count": 5,
   "metadata": {},
   "outputs": [
    {
     "name": "stdout",
     "output_type": "stream",
     "text": [
      "Deseja continuar? (s/n): \n",
      "Deseja continuar? (s/n): \n"
     ]
    },
    {
     "ename": "IndexError",
     "evalue": "list index out of range",
     "output_type": "error",
     "traceback": [
      "\u001b[1;31m---------------------------------------------------------------------------\u001b[0m",
      "\u001b[1;31mIndexError\u001b[0m                                Traceback (most recent call last)",
      "\u001b[1;32mc:\\Users\\2840482011010\\Desktop\\topicos_especiais\\aula03\\challenge.ipynb Cell 1\u001b[0m in \u001b[0;36m<cell line: 42>\u001b[1;34m()\u001b[0m\n\u001b[0;32m     <a href='vscode-notebook-cell:/c%3A/Users/2840482011010/Desktop/topicos_especiais/aula03/challenge.ipynb#W0sZmlsZQ%3D%3D?line=39'>40</a>\u001b[0m     \u001b[39mreturn\u001b[39;00m \u001b[39msorted\u001b[39m(users, key\u001b[39m=\u001b[39m\u001b[39mlambda\u001b[39;00m user: user[\u001b[39m'\u001b[39m\u001b[39musername\u001b[39m\u001b[39m'\u001b[39m])\n\u001b[0;32m     <a href='vscode-notebook-cell:/c%3A/Users/2840482011010/Desktop/topicos_especiais/aula03/challenge.ipynb#W0sZmlsZQ%3D%3D?line=41'>42</a>\u001b[0m \u001b[39mwhile\u001b[39;00m(stop \u001b[39m==\u001b[39m \u001b[39mFalse\u001b[39;00m):\n\u001b[1;32m---> <a href='vscode-notebook-cell:/c%3A/Users/2840482011010/Desktop/topicos_especiais/aula03/challenge.ipynb#W0sZmlsZQ%3D%3D?line=42'>43</a>\u001b[0m     users\u001b[39m.\u001b[39mappend(generateUser())\n\u001b[0;32m     <a href='vscode-notebook-cell:/c%3A/Users/2840482011010/Desktop/topicos_especiais/aula03/challenge.ipynb#W0sZmlsZQ%3D%3D?line=43'>44</a>\u001b[0m     \u001b[39mprint\u001b[39m(\u001b[39m\"\u001b[39m\u001b[39mDeseja continuar? (s/n): \u001b[39m\u001b[39m\"\u001b[39m)\n\u001b[0;32m     <a href='vscode-notebook-cell:/c%3A/Users/2840482011010/Desktop/topicos_especiais/aula03/challenge.ipynb#W0sZmlsZQ%3D%3D?line=44'>45</a>\u001b[0m     stop \u001b[39m=\u001b[39m \u001b[39minput\u001b[39m() \u001b[39m==\u001b[39m \u001b[39m'\u001b[39m\u001b[39mn\u001b[39m\u001b[39m'\u001b[39m\n",
      "\u001b[1;32mc:\\Users\\2840482011010\\Desktop\\topicos_especiais\\aula03\\challenge.ipynb Cell 1\u001b[0m in \u001b[0;36mgenerateUser\u001b[1;34m()\u001b[0m\n\u001b[0;32m     <a href='vscode-notebook-cell:/c%3A/Users/2840482011010/Desktop/topicos_especiais/aula03/challenge.ipynb#W0sZmlsZQ%3D%3D?line=21'>22</a>\u001b[0m  user \u001b[39m=\u001b[39m {\n\u001b[0;32m     <a href='vscode-notebook-cell:/c%3A/Users/2840482011010/Desktop/topicos_especiais/aula03/challenge.ipynb#W0sZmlsZQ%3D%3D?line=22'>23</a>\u001b[0m  \u001b[39m'\u001b[39m\u001b[39musername\u001b[39m\u001b[39m'\u001b[39m: \u001b[39m'\u001b[39m\u001b[39m'\u001b[39m,\n\u001b[0;32m     <a href='vscode-notebook-cell:/c%3A/Users/2840482011010/Desktop/topicos_especiais/aula03/challenge.ipynb#W0sZmlsZQ%3D%3D?line=23'>24</a>\u001b[0m  \u001b[39m'\u001b[39m\u001b[39mpassword\u001b[39m\u001b[39m'\u001b[39m: \u001b[39m'\u001b[39m\u001b[39m'\u001b[39m\n\u001b[0;32m     <a href='vscode-notebook-cell:/c%3A/Users/2840482011010/Desktop/topicos_especiais/aula03/challenge.ipynb#W0sZmlsZQ%3D%3D?line=24'>25</a>\u001b[0m }\n\u001b[0;32m     <a href='vscode-notebook-cell:/c%3A/Users/2840482011010/Desktop/topicos_especiais/aula03/challenge.ipynb#W0sZmlsZQ%3D%3D?line=26'>27</a>\u001b[0m  fullName \u001b[39m=\u001b[39m \u001b[39minput\u001b[39m(\u001b[39m'\u001b[39m\u001b[39mDigite seu nome completo: \u001b[39m\u001b[39m'\u001b[39m)\n\u001b[1;32m---> <a href='vscode-notebook-cell:/c%3A/Users/2840482011010/Desktop/topicos_especiais/aula03/challenge.ipynb#W0sZmlsZQ%3D%3D?line=28'>29</a>\u001b[0m  user[\u001b[39m'\u001b[39m\u001b[39musername\u001b[39m\u001b[39m'\u001b[39m] \u001b[39m=\u001b[39m generateUsername(fullName)\n\u001b[0;32m     <a href='vscode-notebook-cell:/c%3A/Users/2840482011010/Desktop/topicos_especiais/aula03/challenge.ipynb#W0sZmlsZQ%3D%3D?line=29'>30</a>\u001b[0m  user[\u001b[39m'\u001b[39m\u001b[39mpassword\u001b[39m\u001b[39m'\u001b[39m] \u001b[39m=\u001b[39m generatePassword()\n\u001b[0;32m     <a href='vscode-notebook-cell:/c%3A/Users/2840482011010/Desktop/topicos_especiais/aula03/challenge.ipynb#W0sZmlsZQ%3D%3D?line=31'>32</a>\u001b[0m  \u001b[39mfor\u001b[39;00m i \u001b[39min\u001b[39;00m users:\n",
      "\u001b[1;32mc:\\Users\\2840482011010\\Desktop\\topicos_especiais\\aula03\\challenge.ipynb Cell 1\u001b[0m in \u001b[0;36mgenerateUsername\u001b[1;34m(fullName)\u001b[0m\n\u001b[0;32m      <a href='vscode-notebook-cell:/c%3A/Users/2840482011010/Desktop/topicos_especiais/aula03/challenge.ipynb#W0sZmlsZQ%3D%3D?line=5'>6</a>\u001b[0m \u001b[39mdef\u001b[39;00m \u001b[39mgenerateUsername\u001b[39m(fullName):\n\u001b[0;32m      <a href='vscode-notebook-cell:/c%3A/Users/2840482011010/Desktop/topicos_especiais/aula03/challenge.ipynb#W0sZmlsZQ%3D%3D?line=6'>7</a>\u001b[0m     username \u001b[39m=\u001b[39m fullName\u001b[39m.\u001b[39mlower()[\u001b[39m0\u001b[39m]\n\u001b[1;32m----> <a href='vscode-notebook-cell:/c%3A/Users/2840482011010/Desktop/topicos_especiais/aula03/challenge.ipynb#W0sZmlsZQ%3D%3D?line=8'>9</a>\u001b[0m     username \u001b[39m+\u001b[39m\u001b[39m=\u001b[39m fullName\u001b[39m.\u001b[39;49msplit(\u001b[39m'\u001b[39;49m\u001b[39m \u001b[39;49m\u001b[39m'\u001b[39;49m)[\u001b[39m1\u001b[39;49m]\u001b[39m.\u001b[39mlower()\n\u001b[0;32m     <a href='vscode-notebook-cell:/c%3A/Users/2840482011010/Desktop/topicos_especiais/aula03/challenge.ipynb#W0sZmlsZQ%3D%3D?line=10'>11</a>\u001b[0m     \u001b[39mreturn\u001b[39;00m username\n",
      "\u001b[1;31mIndexError\u001b[0m: list index out of range"
     ]
    }
   ],
   "source": [
    "import random\n",
    "\n",
    "users = []\n",
    "stop = False\n",
    "\n",
    "def generateUsername(fullName):\n",
    "    username = fullName.lower()[0]\n",
    "\n",
    "    username += fullName.split(' ')[1].lower()\n",
    "\n",
    "    return username\n",
    "\n",
    "def generatePassword():\n",
    "    password = ''\n",
    "\n",
    "    for i in range(14):\n",
    "        password += chr(random.randint(34, 122))\n",
    "\n",
    "    return password\n",
    "\n",
    "def generateUser():\n",
    "    user = {\n",
    "    'username': '',\n",
    "    'password': ''\n",
    "   }\n",
    "\n",
    "    fullName = input('Digite seu nome completo: ')\n",
    "\n",
    "    user['username'] = generateUsername(fullName)\n",
    "    user['password'] = generatePassword()\n",
    "\n",
    "    for i in users:\n",
    "        while i['username'] == user['username']:\n",
    "            user['username'] = f'{user[\"username\"]}{random.randint(0, 150)}'\n",
    "            \n",
    "\n",
    "    return user\n",
    "\n",
    "def sortUsers(users):\n",
    "    return sorted(users, key=lambda user: user['username'])\n",
    "\n",
    "while(stop == False):\n",
    "    users.append(generateUser())\n",
    "    print(\"Deseja continuar? (s/n): \")\n",
    "    stop = input() == 'n'\n",
    "\n",
    "\n",
    "\n",
    "print(sortUsers(users))\n",
    "\n",
    "\n"
   ]
  },
  {
   "cell_type": "code",
   "execution_count": null,
   "metadata": {},
   "outputs": [],
   "source": []
  }
 ],
 "metadata": {
  "kernelspec": {
   "display_name": "Python 3.10.6 64-bit",
   "language": "python",
   "name": "python3"
  },
  "language_info": {
   "codemirror_mode": {
    "name": "ipython",
    "version": 3
   },
   "file_extension": ".py",
   "mimetype": "text/x-python",
   "name": "python",
   "nbconvert_exporter": "python",
   "pygments_lexer": "ipython3",
   "version": "3.10.6"
  },
  "orig_nbformat": 4,
  "vscode": {
   "interpreter": {
    "hash": "24f94512675ec9df344132d21213f10995dc47aff71c39568dc39323421631ce"
   }
  }
 },
 "nbformat": 4,
 "nbformat_minor": 2
}
