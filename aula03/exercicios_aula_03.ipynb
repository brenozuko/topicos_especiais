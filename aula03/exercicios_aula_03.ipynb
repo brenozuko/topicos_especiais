{
 "cells": [
  {
   "cell_type": "code",
   "execution_count": 43,
   "metadata": {},
   "outputs": [
    {
     "name": "stdout",
     "output_type": "stream",
     "text": [
      "Quantidade de números pares:  4\n",
      "Numeros impares:  [35, 21]\n",
      "Soma dos números:  68\n",
      "Maior número:  44\n",
      "Menor número:  -60\n",
      "Quantidade de números positivos:  5\n"
     ]
    }
   ],
   "source": [
    "# Exercício 1 - Tuplas\n",
    "num = (2,26,35,44,21,-60)\n",
    "qtdPares = 0\n",
    "impares = []\n",
    "soma = 0\n",
    "maior = -9999\n",
    "menor = 9999\n",
    "qtdPositivos = 0\n",
    "\n",
    "for i in num:\n",
    "    if i % 2 == 0:\n",
    "        qtdPares += 1\n",
    "    else:\n",
    "        impares.append(i)\n",
    "    soma += i\n",
    "\n",
    "    if i > 0:\n",
    "        qtdPositivos += 1\n",
    "\n",
    "print(\"Quantidade de números pares: \", qtdPares)\n",
    "print(\"Numeros impares: \", impares)\n",
    "print(\"Soma dos números: \", soma)\n",
    "print(\"Maior número: \", max(num))\n",
    "print(\"Menor número: \", min(num))\n",
    "print(\"Quantidade de números positivos: \", qtdPositivos)\n"
   ]
  },
  {
   "cell_type": "code",
   "execution_count": 21,
   "metadata": {},
   "outputs": [
    {
     "name": "stdout",
     "output_type": "stream",
     "text": [
      "[[245, 211, 50, 216, 109, 36, 159, 249, 95, 101], [165, 178, 230, 185, 65, 139, 223, 22, 5, 42], [2, 81, 181, 98, 42, 3, 225, 13, 103, 25], [205, 138, 71, 225, 196, 125, 197, 69, 214, 235], [7, 159, 20, 128, 159, 35, 34, 12, 156, 192], [36, 23, 177, 176, 32, 242, 202, 85, 3, 218], [226, 200, 90, 249, 223, 17, 188, 26, 249, 128], [84, 244, 173, 179, 135, 184, 19, 147, 237, 186], [92, 222, 77, 255, 210, 30, 131, 63, 91, 106], [74, 225, 82, 159, 202, 70, 23, 1, 95, 236]]\n"
     ]
    }
   ],
   "source": [
    "# Exercício 2 - Tuplas\n",
    "import random\n",
    "\n",
    "image = [[random.randint(0,255) for i in range(10)] for j in range(10)]\n",
    "\n",
    "\n",
    "print(image)"
   ]
  },
  {
   "cell_type": "code",
   "execution_count": 11,
   "metadata": {},
   "outputs": [
    {
     "name": "stdout",
     "output_type": "stream",
     "text": [
      "Aluno:  João\n",
      "Nota 1:  10\n",
      "Nota 2:  10\n",
      "Média:  10.0\n",
      "Status:  Aprovado\n",
      "\n",
      "\n",
      "Aluno:  Maria\n",
      "Nota 1:  5\n",
      "Nota 2:  5\n",
      "Média:  5.0\n",
      "Status:  Exame\n",
      "\n",
      "\n",
      "Aluno:  José\n",
      "Nota 1:  7\n",
      "Nota 2:  7\n",
      "Média:  7.0\n",
      "Status:  Aprovado\n",
      "\n",
      "\n",
      "Aluno:  Ana\n",
      "Nota 1:  8\n",
      "Nota 2:  8\n",
      "Média:  8.0\n",
      "Status:  Aprovado\n",
      "\n",
      "\n",
      "Aluno:  Pedro\n",
      "Nota 1:  9\n",
      "Nota 2:  9\n",
      "Média:  9.0\n",
      "Status:  Aprovado\n",
      "\n",
      "\n",
      "Aluno:  Paulo\n",
      "Nota 1:  2\n",
      "Nota 2:  2\n",
      "Média:  2.0\n",
      "Status:  Reprovado\n",
      "\n",
      "\n",
      "Quantidade de alunos aprovados:  4\n",
      "Quantidade de alunos em exame:  1\n",
      "Quantidade de alunos reprovados:  1\n",
      "Média da classe:  6.83\n"
     ]
    }
   ],
   "source": [
    "# Exercício 3 - Tuplas\n",
    "\n",
    "import collections\n",
    "\n",
    "somaMedias = 0\n",
    "qtdAprovados = 0\n",
    "qtdExame = 0\n",
    "qtdReprovados = 0\n",
    "\n",
    "Aluno = collections.namedtuple(\"Aluno\", \"nome nota1 nota2\")\n",
    "\n",
    "alunos = []\n",
    "\n",
    "alunos.append(Aluno(\"João\", 10, 10))\n",
    "alunos.append(Aluno(\"Maria\", 5, 5))\n",
    "alunos.append(Aluno(\"José\", 7, 7))\n",
    "alunos.append(Aluno(\"Ana\", 8, 8))\n",
    "alunos.append(Aluno(\"Pedro\", 9, 9))\n",
    "alunos.append(Aluno(\"Paulo\", 2, 2))\n",
    "\n",
    "for aluno in alunos:\n",
    "    media = (aluno.nota1 + aluno.nota2) / 2\n",
    "    somaMedias += media\n",
    "    \n",
    "    status = 'Aprovado' if media >= 7 else 'Exame' if media >= 4 else 'Reprovado'\n",
    "    \n",
    "    if status == 'Aprovado':\n",
    "        qtdAprovados += 1\n",
    "    elif status == 'Exame':\n",
    "        qtdExame += 1\n",
    "    else:\n",
    "        qtdReprovados += 1\n",
    "\n",
    "    print(\"Aluno: \", aluno.nome)\n",
    "    print(\"Nota 1: \", aluno.nota1)\n",
    "    print(\"Nota 2: \", aluno.nota2)\n",
    "    print(\"Média: \", media)\n",
    "    print(\"Status: \", status)\n",
    "    print(\"\\n\")\n",
    "\n",
    "\n",
    "print(\"Quantidade de alunos aprovados: \", qtdAprovados)\n",
    "print(\"Quantidade de alunos em exame: \", qtdExame)\n",
    "print(\"Quantidade de alunos reprovados: \", qtdReprovados)\n",
    "print(\"Média da classe: \", round(somaMedias / len(alunos), 2))"
   ]
  },
  {
   "cell_type": "code",
   "execution_count": 17,
   "metadata": {},
   "outputs": [
    {
     "name": "stdout",
     "output_type": "stream",
     "text": [
      "Quantidade de produtos com preço inferior a R$ 50,00:  3\n",
      "Nomes dos produtos com preço entre R$ 50,00 e R$ 100,00:  ['Feijão']\n",
      "Média dos preços dos produtos com preço superior a R$ 100,00:  9999.12\n"
     ]
    }
   ],
   "source": [
    "# Exercício 4 - Tuplas\n",
    "\n",
    "import collections\n",
    "\n",
    "Produto = collections.namedtuple(\"Produto\", \"nome preco\")\n",
    "produtos = []\n",
    "qtd = 0\n",
    "names = []\n",
    "somaMedia = 0\n",
    "qtdMedia = 0\n",
    "\n",
    "produtos.append(Produto(\"Arroz\", 10.45))\n",
    "produtos.append(Produto(\"Feijão\", 55.25))\n",
    "produtos.append(Produto(\"Macarrão\", 7.47))\n",
    "produtos.append(Produto(\"Carne\", 8.68))\n",
    "produtos.append(Produto(\"Monza\", 9999.12))\n",
    "\n",
    "for p in produtos:\n",
    "    if p.preco < 50:\n",
    "        qtd += 1\n",
    "    \n",
    "    elif 50 <= p.preco <= 100:\n",
    "        names.append(p.nome)\n",
    "    \n",
    "    else:\n",
    "        somaMedia += p.preco\n",
    "        qtdMedia += 1\n",
    "\n",
    "\n",
    "\n",
    "\n",
    "\n",
    "print(\"Quantidade de produtos com preço inferior a R$ 50,00: \", qtd)\n",
    "print(\"Nomes dos produtos com preço entre R$ 50,00 e R$ 100,00: \", names)\n",
    "print(\"Média dos preços dos produtos com preço superior a R$ 100,00: \", round(somaMedia / qtdMedia, 2))"
   ]
  },
  {
   "cell_type": "code",
   "execution_count": 37,
   "metadata": {},
   "outputs": [
    {
     "name": "stdout",
     "output_type": "stream",
     "text": [
      "True\n"
     ]
    }
   ],
   "source": [
    "# Exercício 1 - Listas [CHECKPALINDROME]\n",
    "\n",
    "def checkPalindrome(word):\n",
    "    return word == word[::-1]\n",
    "\n",
    "\n",
    "print(checkPalindrome(\"ovo\"))\n",
    "\n"
   ]
  },
  {
   "cell_type": "code",
   "execution_count": 44,
   "metadata": {},
   "outputs": [
    {
     "name": "stdout",
     "output_type": "stream",
     "text": [
      "[11, 12, 13, 14, 9, 8, 14, 0, 8, 1, 12, 13, 5, 5, 0]\n",
      "Maior:  14\n",
      "[0.7857142857142857, 0.8571428571428571, 0.9285714285714286, 1.0, 0.6428571428571429, 0.5714285714285714, 1.0, 0.0, 0.5714285714285714, 0.07142857142857142, 0.8571428571428571, 0.9285714285714286, 0.35714285714285715, 0.35714285714285715, 0.0]\n"
     ]
    }
   ],
   "source": [
    "# Exercicio 2 - Listas [Divisão pelo maior do vetor]\n",
    "\n",
    "import random\n",
    "\n",
    "vetor = [random.randint(0,15) for i in range(15)]\n",
    "maior = max(vetor)\n",
    "\n",
    "print(vetor)\n",
    "print (\"Maior: \", maior)\n",
    "\n",
    "for i in range(len(vetor)):\n",
    "    vetor[i] /= maior\n",
    "\n",
    "print(vetor)\n"
   ]
  },
  {
   "cell_type": "code",
   "execution_count": 45,
   "metadata": {},
   "outputs": [
    {
     "name": "stdout",
     "output_type": "stream",
     "text": [
      "21\n"
     ]
    }
   ],
   "source": [
    "# Exercício 3 - Listas\n",
    "\n",
    "def adjacentElementsProduct(inputArray):\n",
    "    higherProduct = 0;\n",
    "\n",
    "    for (idx, el) in enumerate(inputArray):\n",
    "        if idx == 0:\n",
    "           product = el * inputArray[idx + 1];\n",
    "           if product > higherProduct:\n",
    "                higherProduct = product\n",
    "        \n",
    "        elif idx == len(inputArray) - 1:\n",
    "            product = el * inputArray[idx - 1];\n",
    "            if product > higherProduct:\n",
    "                higherProduct = product\n",
    "\n",
    "        else:\n",
    "            product = el * inputArray[idx + 1];\n",
    "            if product > higherProduct:\n",
    "                higherProduct = product\n",
    "\n",
    "            product = el * inputArray[idx - 1];\n",
    "            if product > higherProduct:\n",
    "                higherProduct = product\n",
    "\n",
    "    return higherProduct\n",
    "\n",
    "input = [3, 6, -2, -5, 7, 3]\n",
    "\n",
    "print(adjacentElementsProduct(input))"
   ]
  }
 ],
 "metadata": {
  "kernelspec": {
   "display_name": "Python 3.10.6 64-bit",
   "language": "python",
   "name": "python3"
  },
  "language_info": {
   "codemirror_mode": {
    "name": "ipython",
    "version": 3
   },
   "file_extension": ".py",
   "mimetype": "text/x-python",
   "name": "python",
   "nbconvert_exporter": "python",
   "pygments_lexer": "ipython3",
   "version": "3.10.6"
  },
  "orig_nbformat": 4,
  "vscode": {
   "interpreter": {
    "hash": "24f94512675ec9df344132d21213f10995dc47aff71c39568dc39323421631ce"
   }
  }
 },
 "nbformat": 4,
 "nbformat_minor": 2
}
