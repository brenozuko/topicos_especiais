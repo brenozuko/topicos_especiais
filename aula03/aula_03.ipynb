{
 "cells": [
  {
   "cell_type": "code",
   "execution_count": 2,
   "metadata": {},
   "outputs": [
    {
     "name": "stdout",
     "output_type": "stream",
     "text": [
      "Pessoa(id=1, nome='João da Silva', idade=22, email='joao@joao.com')\n",
      "Id...: 1\n",
      "Nome.: João da Silva\n",
      "Idade: 22\n",
      "Email: joao@joao.com\n",
      "Pessoa(id=2, nome='Maria da Silva', idade=19, email='ana@ana.com.br')\n",
      "Id...: 2\n",
      "Nome.: Maria da Silva\n",
      "Idade: 19\n",
      "Email: ana@ana.com.br\n"
     ]
    }
   ],
   "source": [
    "import os\n",
    "import collections\n",
    "\n",
    "os.system('cls')\n",
    "\n",
    "# Tuplas nomeadas\n",
    "\n",
    "Pessoa = collections.namedtuple('Pessoa', 'id nome idade email')\n",
    "\n",
    "pessoas = []\n",
    "pessoas.append(Pessoa(1, 'João da Silva', 22, 'joao@joao.com'))\n",
    "pessoas.append(Pessoa(2, 'Maria da Silva', 19, 'ana@ana.com.br'))\n",
    "\n",
    "for p in pessoas:\n",
    "    print(\"Id...: %d\" %p.id)\n",
    "    print(\"Nome.: %s\" %p.nome)\n",
    "    print(\"Idade: %d\" %p.idade)\n",
    "    print(\"Email: %s\" %p.email)\n"
   ]
  },
  {
   "cell_type": "code",
   "execution_count": null,
   "metadata": {},
   "outputs": [],
   "source": []
  }
 ],
 "metadata": {
  "kernelspec": {
   "display_name": "Python 3.10.6 64-bit",
   "language": "python",
   "name": "python3"
  },
  "language_info": {
   "codemirror_mode": {
    "name": "ipython",
    "version": 3
   },
   "file_extension": ".py",
   "mimetype": "text/x-python",
   "name": "python",
   "nbconvert_exporter": "python",
   "pygments_lexer": "ipython3",
   "version": "3.10.6"
  },
  "orig_nbformat": 4,
  "vscode": {
   "interpreter": {
    "hash": "24f94512675ec9df344132d21213f10995dc47aff71c39568dc39323421631ce"
   }
  }
 },
 "nbformat": 4,
 "nbformat_minor": 2
}
